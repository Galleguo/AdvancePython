{
 "cells": [
  {
   "cell_type": "markdown",
   "id": "b2370e5e",
   "metadata": {},
   "source": [
    "<H2> <A HREF=https://scipy.org/> SciPy </A> (3.39) </H2>\n",
    "\n",
    "Es una librería basada en NumPy usada en matemátoca avanzada que posee algorítmos y funciones.\n",
    "\n",
    "Usado en:\n",
    "\n",
    "- Estadísticas\n",
    "- Espacio de datos\n",
    "- Ciencia de la imágen\n",
    "- Ecuaciones matemáticas\n",
    "- Plataformas integrales (reusa los códigos escritos en C y C++)\n",
    "- Procesamiento de señales\n",
    "- Optimización\n",
    "\n",
    "Scipy contiene multiples subpaquetes:\n",
    "\n",
    "- Cluster (permite manipular clustering algorithms)\n",
    "- Constants (contiene un paquete de constantes como pi)\n",
    "- fftpack (permite calcular la transformada de fourier)\n",
    "- Integrate (resuelve secuencias o series matemáticas)\n",
    "- Spatial (se usa en problemas relacionados a gráficos)\n",
    "- Interpolate (crea nuevos datos a partir de un rango de información dada)\n",
    "- IO (lee y escribe info en diferentes tipos de formatos)\n",
    "- linalg (resuelve problemas de algebra lineal)\n",
    "- ndimage (contiene muchas funciones para procesar imagenes multidimensionales)\n",
    "- odr (orthogonal distance regression)\n",
    "- Optimize (mejora la performance de una función)\n",
    "- Signal\n",
    "- Sparse\n",
    "- Weave (herramiento para integrar códigos de C y C++)\n",
    "- Stats (contiene herramientas y funciones estadísticas)\n",
    "- Special"
   ]
  },
  {
   "cell_type": "code",
   "execution_count": 3,
   "id": "3de72fea",
   "metadata": {},
   "outputs": [
    {
     "name": "stdout",
     "output_type": "stream",
     "text": [
      "El valor de x= 24.0 . El valor de y= 6.0\n"
     ]
    }
   ],
   "source": [
    "import numpy as np\n",
    "from scipy import linalg #permite resolver ecuaciones lineales\n",
    "\n",
    "#Genero un sistema de ecuaciones a partir del siguiente enunciado.\n",
    "\n",
    "#El examen tiene 30 preguntas y en total vale 150 puntos.\n",
    "#Las preguntas de V y F valen 4 puntos cada una\n",
    "#Los multiplechoice 9 puntos cada una\n",
    "#x=nª de preguntas V/F.\n",
    "#y=nª de multiplechoice.\n",
    "\n",
    "#A partir del enunciado se genera el siguiente sistema de ecuaciones:\n",
    "#x + y = 30\n",
    "#4x + 9y = 150\n",
    "\n",
    "#Para resolverlo, los terminos independientes tienen que estar separados del lado igual respecto de las variable (ya hecho)\n",
    "#Genero una primer matriz con los coeficientes de las variables\n",
    "testQuestionVariable = np.array([[1,1],[4,9]])\n",
    "#Genero un segundo arreglo con los valores independientes\n",
    "testQuestionValue = np.array([30,150])\n",
    "\n",
    "#Resuelvo\n",
    "[x,y] = linalg.solve(testQuestionVariable,testQuestionValue)\n",
    "\n",
    "print(\"El valor de x=\",x,\". El valor de y=\",y)"
   ]
  }
 ],
 "metadata": {
  "kernelspec": {
   "display_name": "Python 3 (ipykernel)",
   "language": "python",
   "name": "python3"
  },
  "language_info": {
   "codemirror_mode": {
    "name": "ipython",
    "version": 3
   },
   "file_extension": ".py",
   "mimetype": "text/x-python",
   "name": "python",
   "nbconvert_exporter": "python",
   "pygments_lexer": "ipython3",
   "version": "3.10.4"
  }
 },
 "nbformat": 4,
 "nbformat_minor": 5
}
