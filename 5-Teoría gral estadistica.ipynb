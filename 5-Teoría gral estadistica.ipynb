{
 "cells": [
  {
   "cell_type": "markdown",
   "id": "6ae1dfab",
   "metadata": {},
   "source": [
    "<H2> Statistics 4.16 </H2>\n",
    "\n",
    "Existen 3 tipos principales de estadísticas:\n",
    "\n",
    "- Estadísticas descriptivas\n",
    "- Estadísticas Inferenciales\n",
    "- Estadísticas Predictivas\n",
    "\n",
    "<H4> Estadísticas descriptivas </H4>\n",
    "\n",
    "<H4> Estadísticas inferenciales </H4>\n",
    "\n",
    "Estadísticas que permiten la estimación de una característica de una población\n",
    "\n",
    "La información es obtenida a partida de una muestra de una población y los resultados se lo extrapolan al total de la población.\n",
    "\n",
    "<H4> Estadísticas predictivas </H4>\n",
    "\n",
    "Estadísticas que permiten predecir tendencia, patrones de comportamiento, relación entre características, entre otras\n",
    "\n",
    "<H3> Medidas de tendencias centrales 4.18 a 4.21</H3>\n",
    "\n",
    "La más común es el promedio o la media. También se usa la mediana y el modo.\n",
    "\n",
    "Media: sumatoria de todos los valores numéricos dividido la cantidad de muestras sumadas.\n",
    "\n",
    "Mediana: es el valor medio de todas las muestras\n",
    "\n",
    "Modo: se puede calcular a partir de información categórica (ocurrencias de strings) o numérica aunque no puede llegar a reflejar el centro de la distribución de forma correcta.\n",
    "Es usado para determinar qué categoría es la que más veces se repite.\n",
    "\n",
    "Si tenemos una muestra x1, x2, x3,..., xn. \n",
    "\n",
    "La media va a ser -> \n",
    "\n",
    "Media de x ó promedio = (x1+x2+x3+...+xn)/n\n",
    "\n",
    "    En python se usa mean() de la librería statistics\n",
    "\n",
    "La mediana va a ser ->\n",
    "\n",
    "Si n es imparpar (muestras pares). Mediana = x(n/2). La muestra que se encuentra en la mitad de las muestras cuando están ordenadas de mayor o menor o de menor a mayor.\n",
    "\n",
    "Si n es par, la mediana es el promedio de los dos valores medios.\n",
    "\n",
    "    En python se usa median() de la librería statistics\n",
    "    \n",
    "El modo va a ser ->\n",
    "\n",
    "    En python se usa mode() de la librería statistics\n",
    "    \n",
    "<H3> Medidas de disperción 4.22</H3>"
   ]
  },
  {
   "cell_type": "code",
   "execution_count": null,
   "id": "f32eb9e4",
   "metadata": {},
   "outputs": [],
   "source": []
  }
 ],
 "metadata": {
  "kernelspec": {
   "display_name": "Python 3 (ipykernel)",
   "language": "python",
   "name": "python3"
  },
  "language_info": {
   "codemirror_mode": {
    "name": "ipython",
    "version": 3
   },
   "file_extension": ".py",
   "mimetype": "text/x-python",
   "name": "python",
   "nbconvert_exporter": "python",
   "pygments_lexer": "ipython3",
   "version": "3.10.4"
  }
 },
 "nbformat": 4,
 "nbformat_minor": 5
}
